{
  "cells": [
    {
      "cell_type": "markdown",
      "source": [
        "# Εργασία 1. Επιβλεπόμενη Μάθηση - Μέρος 1. UCI dataset \n",
        "## Νευρωνικά Δίκτυα και Ευφυή Υπολογιστικά Συστήματα\n",
        "\n",
        "| Team 10                              |          |\n",
        "|--------------------------------------|----------|\n",
        "| Ανδρεάς Χρυσοβαλάντης - Κωνσταντίνος | 03118102 |\n",
        "| Μανίατης Ανδρέας                     | 03118070 |\n",
        "| Παπανικολάου Ιωάννης                 | 03118064 |"
      ],
      "metadata": {
        "id": "HbXNG_9M8kJ4"
      }
    },
    {
      "cell_type": "code",
      "source": [
        "!pip install --upgrade matplotlib==3.4.3"
      ],
      "metadata": {
        "colab": {
          "base_uri": "https://localhost:8080/"
        },
        "id": "9t0saDOg7SM7",
        "outputId": "87fdd4df-49a3-46e4-a660-5c3860bae014"
      },
      "execution_count": 5,
      "outputs": [
        {
          "output_type": "stream",
          "name": "stdout",
          "text": [
            "Looking in indexes: https://pypi.org/simple, https://us-python.pkg.dev/colab-wheels/public/simple/\n",
            "Requirement already satisfied: matplotlib==3.4.3 in /usr/local/lib/python3.8/dist-packages (3.4.3)\n",
            "Requirement already satisfied: kiwisolver>=1.0.1 in /usr/local/lib/python3.8/dist-packages (from matplotlib==3.4.3) (1.4.4)\n",
            "Requirement already satisfied: pyparsing>=2.2.1 in /usr/local/lib/python3.8/dist-packages (from matplotlib==3.4.3) (3.0.9)\n",
            "Requirement already satisfied: python-dateutil>=2.7 in /usr/local/lib/python3.8/dist-packages (from matplotlib==3.4.3) (2.8.2)\n",
            "Requirement already satisfied: numpy>=1.16 in /usr/local/lib/python3.8/dist-packages (from matplotlib==3.4.3) (1.21.6)\n",
            "Requirement already satisfied: cycler>=0.10 in /usr/local/lib/python3.8/dist-packages (from matplotlib==3.4.3) (0.11.0)\n",
            "Requirement already satisfied: pillow>=6.2.0 in /usr/local/lib/python3.8/dist-packages (from matplotlib==3.4.3) (7.1.2)\n",
            "Requirement already satisfied: six>=1.5 in /usr/local/lib/python3.8/dist-packages (from python-dateutil>=2.7->matplotlib==3.4.3) (1.15.0)\n"
          ]
        }
      ]
    },
    {
      "cell_type": "code",
      "execution_count": 6,
      "metadata": {
        "id": "zusw4GwfR73A"
      },
      "outputs": [],
      "source": [
        "#For numerical libraries\n",
        "import numpy as np\n",
        "#To handle data in the form of rows and columns\n",
        "import pandas as pd\n",
        "#importing seaborn for statistical plots\n",
        "import seaborn as sns\n",
        "#importing ploting libraries\n",
        "import matplotlib.pyplot as plt\n",
        "#styling figures\n",
        "from matplotlib.pyplot import figure\n",
        "plt.rc('font',size=14)\n",
        "sns.set(style='white')\n",
        "sns.set(style='whitegrid',color_codes=True)\n",
        "#To enable plotting graphs in Jupyter notebook\n",
        "%matplotlib inline\n",
        "#importing the Encoding library\n",
        "from sklearn.preprocessing import LabelEncoder\n",
        "#importing the zscore for scaling\n",
        "from scipy.stats import zscore\n",
        "#Importing PCA for dimensionality reduction and visualization\n",
        "from sklearn.decomposition import PCA\n",
        "# Import Logistic Regression machine learning library\n",
        "from sklearn.linear_model import LogisticRegression \n",
        "# Import Support Vector Classifier machine learning library\n",
        "from sklearn.svm import SVC\n",
        "from sklearn.dummy import DummyClassifier\n",
        "from sklearn.neighbors import KNeighborsClassifier\n",
        "#Import Naive Bayes' machine learning Library\n",
        "from sklearn.naive_bayes import GaussianNB\n",
        "#Import Sklearn package's data splitting function which is based on random function\n",
        "from sklearn.model_selection import train_test_split\n",
        "#Grid search to tune model parameters for SVC\n",
        "from sklearn.model_selection import GridSearchCV\n",
        "# Import the metrics\n",
        "from sklearn import metrics\n",
        "from sklearn.metrics import precision_recall_fscore_support\n",
        "from sklearn.model_selection import cross_val_score\n",
        "from sklearn.metrics import make_scorer, f1_score\n",
        "from imblearn.pipeline import Pipeline\n",
        "from sklearn.preprocessing import StandardScaler\n",
        "from sklearn import neighbors\n",
        "from sklearn.metrics import classification_report\n",
        "from sklearn.neighbors import KNeighborsClassifier\n",
        "import matplotlib"
      ]
    },
    {
      "cell_type": "markdown",
      "metadata": {
        "id": "58JAAw-nX3uc"
      },
      "source": [
        "\n",
        "# Εισαγωγή και επισκόπηση \n",
        "\n",
        "## Παρουσίαση θέματος dataset\n",
        "\n",
        "- Το dataset που καλούμαστε να μελετήσουμε αφορά την εξαγωγή πορίσματος για το είδος ενός οχήματος με βάση χαρακτηριστικά που έχουμε-προκύπτουν από την 2D οπτική του οχήματος. Έτσι, ο σκοπός είναι να ταξινομηθεί μια δεδομένη σιλουέτα ως ένας από τους τέσσερις τύπους οχημάτων (*opel, bus, saab* και *van*) , χρησιμοποιώντας ένα σύνολο χαρακτηριστικών που εξάγονται από τη σιλουέτα. Το όχημα μπορεί να προβληθεί από μία από τις πολλές διαφορετικές οπτικές γωνίες. Μερικά απο τα χαρακτηριστικά είναι ένας  συνδυασμός ανεξάρτητων χαρακτηριστικών κλίμακας χρησιμοποιώντας μέτρα που βασίζονται σε κλασικές ροπές, όπως κλιμακούμενη διακύμανση, λοξότητα και κύρτωση σχετικά με τους κύριους/μικρούς άξονες και ευρετικές μετρήσεις όπως κοιλότητες, κυκλικότητα, ορθογώνια και συμπαγή.\n"
      ]
    },
    {
      "cell_type": "markdown",
      "metadata": {
        "id": "V4pjaS7wBnhg"
      },
      "source": [
        "## Πλήθος δειγμάτων και χαρακτηριστικών"
      ]
    },
    {
      "cell_type": "code",
      "source": [],
      "metadata": {
        "id": "ly9PgQo42jHh"
      },
      "execution_count": null,
      "outputs": []
    },
    {
      "cell_type": "code",
      "execution_count": 7,
      "metadata": {
        "colab": {
          "base_uri": "https://localhost:8080/"
        },
        "id": "uqV6SBBWzN5p",
        "outputId": "499809aa-cfe2-43ea-af43-5165e6bf7597"
      },
      "outputs": [
        {
          "output_type": "stream",
          "name": "stdout",
          "text": [
            "Shape of our dataset is (846, 19) \n",
            "\n",
            "Type of 'class' feature is <class 'str'> \n",
            "\n",
            "<class 'pandas.core.frame.DataFrame'>\n",
            "Int64Index: 846 entries, 0 to 845\n",
            "Data columns (total 19 columns):\n",
            " #   Column                     Non-Null Count  Dtype \n",
            "---  ------                     --------------  ----- \n",
            " 0   compactness                846 non-null    int64 \n",
            " 1   circularity                846 non-null    int64 \n",
            " 2   distance_circularity       846 non-null    int64 \n",
            " 3   radius_ratio               846 non-null    int64 \n",
            " 4   pr_axis_aspect_ratio       846 non-null    int64 \n",
            " 5   max_length_aspect_ratio    846 non-null    int64 \n",
            " 6   scatter_ratio              846 non-null    int64 \n",
            " 7   elongatedness              846 non-null    int64 \n",
            " 8   pr_axis_rectangularity     846 non-null    int64 \n",
            " 9   max_length_rectangularity  846 non-null    int64 \n",
            " 10  scaled_variance            846 non-null    int64 \n",
            " 11  scaled_variance_1          846 non-null    int64 \n",
            " 12  scaled_radius_of_gyration  846 non-null    int64 \n",
            " 13  skewness_about             846 non-null    int64 \n",
            " 14  skewness_about_1           846 non-null    int64 \n",
            " 15  kurtosis_about             846 non-null    int64 \n",
            " 16  kurtosis_about_1           846 non-null    int64 \n",
            " 17  hollows_ratio              846 non-null    int64 \n",
            " 18  class                      846 non-null    object\n",
            "dtypes: int64(18), object(1)\n",
            "memory usage: 164.5+ KB\n"
          ]
        }
      ],
      "source": [
        "import pandas as pd\n",
        "import numpy as np\n",
        "import os\n",
        "import glob\n",
        "\n",
        "# from google.colab import drive\n",
        "# drive.mount('/content/drive')\n",
        "# files = glob.glob(f\"/content/drive/MyDrive/Colab Notebooks/Nevronika  LAB 2022-2023 /EXERCISES /EX1/*.dat\")\n",
        "# print(\"Number of .dat files {}\".format(len(files)))\n",
        "# vehicles = pd.concat([pd.read_csv(f,sep= \" \",\n",
        "#                                    on_bad_lines='warn',\n",
        "#                                    names=['compactness', 'circularity', 'distance_circularity', 'radius_ratio',\n",
        "#                                             'pr_axis_aspect_ratio', 'max_length_aspect_ratio', 'scatter_ratio',\n",
        "#                                             'elongatedness', 'pr_axis_rectangularity', 'max_length_rectangularity',\n",
        "#                                             'scaled_variance', 'scaled_variance_1', 'scaled_radius_of_gyration',\n",
        "#                                             'skewness_about', 'skewness_about_1', 'kurtosis_about',\n",
        "#                                             'kurtosis_about_1','hollows_ratio', 'class'],\n",
        "#                             index_col=False)\n",
        "#                       for f in files ], \n",
        "#                       ignore_index= True)\n",
        "\n",
        "vehicles = pd.read_csv('vehicles_csv.csv',index_col=0)\n",
        "\n",
        "print(\"Shape of our dataset is\",vehicles.shape,\"\\n\")\n",
        "print(\"Type of 'class' feature is\",type(vehicles['class'][0]),\"\\n\")\n",
        "vehicles.info()"
      ]
    },
    {
      "cell_type": "markdown",
      "metadata": {
        "id": "gGh-imM6Nkd4"
      },
      "source": [
        "- Διαβάζοντας το αρχείο βλέπουμε ότι αποτελείται από 846 δείγματα με 19 χαρακτηριστικά το καθένα.\n",
        "- Όπως φαίνεται και παρακάτω τα πρώτα 18 χαρακτηριστικά είναι *integer* δεδομένα, ενώ το τελευταίο το οποίο είναι η κλάση αυτοκινήτων είναι *string*."
      ]
    },
    {
      "cell_type": "code",
      "execution_count": 8,
      "metadata": {
        "colab": {
          "base_uri": "https://localhost:8080/",
          "height": 270
        },
        "id": "6Lcx3oJBBnhp",
        "outputId": "349d4fa3-b56f-4fcf-92ec-61c811727c03"
      },
      "outputs": [
        {
          "output_type": "execute_result",
          "data": {
            "text/plain": [
              "   compactness  circularity  distance_circularity  radius_ratio  \\\n",
              "0           95           48                    83           178   \n",
              "1           91           41                    84           141   \n",
              "2          104           50                   106           209   \n",
              "3           93           41                    82           159   \n",
              "4           85           44                    70           205   \n",
              "\n",
              "   pr_axis_aspect_ratio  max_length_aspect_ratio  scatter_ratio  \\\n",
              "0                    72                       10            162   \n",
              "1                    57                        9            149   \n",
              "2                    66                       10            207   \n",
              "3                    63                        9            144   \n",
              "4                   103                       52            149   \n",
              "\n",
              "   elongatedness  pr_axis_rectangularity  max_length_rectangularity  \\\n",
              "0             42                      20                        159   \n",
              "1             45                      19                        143   \n",
              "2             32                      23                        158   \n",
              "3             46                      19                        143   \n",
              "4             45                      19                        144   \n",
              "\n",
              "   scaled_variance  scaled_variance_1  scaled_radius_of_gyration  \\\n",
              "0              176                379                        184   \n",
              "1              170                330                        158   \n",
              "2              223                635                        220   \n",
              "3              160                309                        127   \n",
              "4              241                325                        188   \n",
              "\n",
              "   skewness_about  skewness_about_1  kurtosis_about  kurtosis_about_1  \\\n",
              "0              70                 6              16               187   \n",
              "1              72                 9              14               189   \n",
              "2              73                14               9               188   \n",
              "3              63                 6              10               199   \n",
              "4             127                 9              11               180   \n",
              "\n",
              "   hollows_ratio class  \n",
              "0            197   van  \n",
              "1            199   van  \n",
              "2            196  saab  \n",
              "3            207   van  \n",
              "4            183   bus  "
            ],
            "text/html": [
              "\n",
              "  <div id=\"df-461f6092-217c-4371-aea1-2af7955dcd91\">\n",
              "    <div class=\"colab-df-container\">\n",
              "      <div>\n",
              "<style scoped>\n",
              "    .dataframe tbody tr th:only-of-type {\n",
              "        vertical-align: middle;\n",
              "    }\n",
              "\n",
              "    .dataframe tbody tr th {\n",
              "        vertical-align: top;\n",
              "    }\n",
              "\n",
              "    .dataframe thead th {\n",
              "        text-align: right;\n",
              "    }\n",
              "</style>\n",
              "<table border=\"1\" class=\"dataframe\">\n",
              "  <thead>\n",
              "    <tr style=\"text-align: right;\">\n",
              "      <th></th>\n",
              "      <th>compactness</th>\n",
              "      <th>circularity</th>\n",
              "      <th>distance_circularity</th>\n",
              "      <th>radius_ratio</th>\n",
              "      <th>pr_axis_aspect_ratio</th>\n",
              "      <th>max_length_aspect_ratio</th>\n",
              "      <th>scatter_ratio</th>\n",
              "      <th>elongatedness</th>\n",
              "      <th>pr_axis_rectangularity</th>\n",
              "      <th>max_length_rectangularity</th>\n",
              "      <th>scaled_variance</th>\n",
              "      <th>scaled_variance_1</th>\n",
              "      <th>scaled_radius_of_gyration</th>\n",
              "      <th>skewness_about</th>\n",
              "      <th>skewness_about_1</th>\n",
              "      <th>kurtosis_about</th>\n",
              "      <th>kurtosis_about_1</th>\n",
              "      <th>hollows_ratio</th>\n",
              "      <th>class</th>\n",
              "    </tr>\n",
              "  </thead>\n",
              "  <tbody>\n",
              "    <tr>\n",
              "      <th>0</th>\n",
              "      <td>95</td>\n",
              "      <td>48</td>\n",
              "      <td>83</td>\n",
              "      <td>178</td>\n",
              "      <td>72</td>\n",
              "      <td>10</td>\n",
              "      <td>162</td>\n",
              "      <td>42</td>\n",
              "      <td>20</td>\n",
              "      <td>159</td>\n",
              "      <td>176</td>\n",
              "      <td>379</td>\n",
              "      <td>184</td>\n",
              "      <td>70</td>\n",
              "      <td>6</td>\n",
              "      <td>16</td>\n",
              "      <td>187</td>\n",
              "      <td>197</td>\n",
              "      <td>van</td>\n",
              "    </tr>\n",
              "    <tr>\n",
              "      <th>1</th>\n",
              "      <td>91</td>\n",
              "      <td>41</td>\n",
              "      <td>84</td>\n",
              "      <td>141</td>\n",
              "      <td>57</td>\n",
              "      <td>9</td>\n",
              "      <td>149</td>\n",
              "      <td>45</td>\n",
              "      <td>19</td>\n",
              "      <td>143</td>\n",
              "      <td>170</td>\n",
              "      <td>330</td>\n",
              "      <td>158</td>\n",
              "      <td>72</td>\n",
              "      <td>9</td>\n",
              "      <td>14</td>\n",
              "      <td>189</td>\n",
              "      <td>199</td>\n",
              "      <td>van</td>\n",
              "    </tr>\n",
              "    <tr>\n",
              "      <th>2</th>\n",
              "      <td>104</td>\n",
              "      <td>50</td>\n",
              "      <td>106</td>\n",
              "      <td>209</td>\n",
              "      <td>66</td>\n",
              "      <td>10</td>\n",
              "      <td>207</td>\n",
              "      <td>32</td>\n",
              "      <td>23</td>\n",
              "      <td>158</td>\n",
              "      <td>223</td>\n",
              "      <td>635</td>\n",
              "      <td>220</td>\n",
              "      <td>73</td>\n",
              "      <td>14</td>\n",
              "      <td>9</td>\n",
              "      <td>188</td>\n",
              "      <td>196</td>\n",
              "      <td>saab</td>\n",
              "    </tr>\n",
              "    <tr>\n",
              "      <th>3</th>\n",
              "      <td>93</td>\n",
              "      <td>41</td>\n",
              "      <td>82</td>\n",
              "      <td>159</td>\n",
              "      <td>63</td>\n",
              "      <td>9</td>\n",
              "      <td>144</td>\n",
              "      <td>46</td>\n",
              "      <td>19</td>\n",
              "      <td>143</td>\n",
              "      <td>160</td>\n",
              "      <td>309</td>\n",
              "      <td>127</td>\n",
              "      <td>63</td>\n",
              "      <td>6</td>\n",
              "      <td>10</td>\n",
              "      <td>199</td>\n",
              "      <td>207</td>\n",
              "      <td>van</td>\n",
              "    </tr>\n",
              "    <tr>\n",
              "      <th>4</th>\n",
              "      <td>85</td>\n",
              "      <td>44</td>\n",
              "      <td>70</td>\n",
              "      <td>205</td>\n",
              "      <td>103</td>\n",
              "      <td>52</td>\n",
              "      <td>149</td>\n",
              "      <td>45</td>\n",
              "      <td>19</td>\n",
              "      <td>144</td>\n",
              "      <td>241</td>\n",
              "      <td>325</td>\n",
              "      <td>188</td>\n",
              "      <td>127</td>\n",
              "      <td>9</td>\n",
              "      <td>11</td>\n",
              "      <td>180</td>\n",
              "      <td>183</td>\n",
              "      <td>bus</td>\n",
              "    </tr>\n",
              "  </tbody>\n",
              "</table>\n",
              "</div>\n",
              "      <button class=\"colab-df-convert\" onclick=\"convertToInteractive('df-461f6092-217c-4371-aea1-2af7955dcd91')\"\n",
              "              title=\"Convert this dataframe to an interactive table.\"\n",
              "              style=\"display:none;\">\n",
              "        \n",
              "  <svg xmlns=\"http://www.w3.org/2000/svg\" height=\"24px\"viewBox=\"0 0 24 24\"\n",
              "       width=\"24px\">\n",
              "    <path d=\"M0 0h24v24H0V0z\" fill=\"none\"/>\n",
              "    <path d=\"M18.56 5.44l.94 2.06.94-2.06 2.06-.94-2.06-.94-.94-2.06-.94 2.06-2.06.94zm-11 1L8.5 8.5l.94-2.06 2.06-.94-2.06-.94L8.5 2.5l-.94 2.06-2.06.94zm10 10l.94 2.06.94-2.06 2.06-.94-2.06-.94-.94-2.06-.94 2.06-2.06.94z\"/><path d=\"M17.41 7.96l-1.37-1.37c-.4-.4-.92-.59-1.43-.59-.52 0-1.04.2-1.43.59L10.3 9.45l-7.72 7.72c-.78.78-.78 2.05 0 2.83L4 21.41c.39.39.9.59 1.41.59.51 0 1.02-.2 1.41-.59l7.78-7.78 2.81-2.81c.8-.78.8-2.07 0-2.86zM5.41 20L4 18.59l7.72-7.72 1.47 1.35L5.41 20z\"/>\n",
              "  </svg>\n",
              "      </button>\n",
              "      \n",
              "  <style>\n",
              "    .colab-df-container {\n",
              "      display:flex;\n",
              "      flex-wrap:wrap;\n",
              "      gap: 12px;\n",
              "    }\n",
              "\n",
              "    .colab-df-convert {\n",
              "      background-color: #E8F0FE;\n",
              "      border: none;\n",
              "      border-radius: 50%;\n",
              "      cursor: pointer;\n",
              "      display: none;\n",
              "      fill: #1967D2;\n",
              "      height: 32px;\n",
              "      padding: 0 0 0 0;\n",
              "      width: 32px;\n",
              "    }\n",
              "\n",
              "    .colab-df-convert:hover {\n",
              "      background-color: #E2EBFA;\n",
              "      box-shadow: 0px 1px 2px rgba(60, 64, 67, 0.3), 0px 1px 3px 1px rgba(60, 64, 67, 0.15);\n",
              "      fill: #174EA6;\n",
              "    }\n",
              "\n",
              "    [theme=dark] .colab-df-convert {\n",
              "      background-color: #3B4455;\n",
              "      fill: #D2E3FC;\n",
              "    }\n",
              "\n",
              "    [theme=dark] .colab-df-convert:hover {\n",
              "      background-color: #434B5C;\n",
              "      box-shadow: 0px 1px 3px 1px rgba(0, 0, 0, 0.15);\n",
              "      filter: drop-shadow(0px 1px 2px rgba(0, 0, 0, 0.3));\n",
              "      fill: #FFFFFF;\n",
              "    }\n",
              "  </style>\n",
              "\n",
              "      <script>\n",
              "        const buttonEl =\n",
              "          document.querySelector('#df-461f6092-217c-4371-aea1-2af7955dcd91 button.colab-df-convert');\n",
              "        buttonEl.style.display =\n",
              "          google.colab.kernel.accessAllowed ? 'block' : 'none';\n",
              "\n",
              "        async function convertToInteractive(key) {\n",
              "          const element = document.querySelector('#df-461f6092-217c-4371-aea1-2af7955dcd91');\n",
              "          const dataTable =\n",
              "            await google.colab.kernel.invokeFunction('convertToInteractive',\n",
              "                                                     [key], {});\n",
              "          if (!dataTable) return;\n",
              "\n",
              "          const docLinkHtml = 'Like what you see? Visit the ' +\n",
              "            '<a target=\"_blank\" href=https://colab.research.google.com/notebooks/data_table.ipynb>data table notebook</a>'\n",
              "            + ' to learn more about interactive tables.';\n",
              "          element.innerHTML = '';\n",
              "          dataTable['output_type'] = 'display_data';\n",
              "          await google.colab.output.renderOutput(dataTable, element);\n",
              "          const docLink = document.createElement('div');\n",
              "          docLink.innerHTML = docLinkHtml;\n",
              "          element.appendChild(docLink);\n",
              "        }\n",
              "      </script>\n",
              "    </div>\n",
              "  </div>\n",
              "  "
            ]
          },
          "metadata": {},
          "execution_count": 8
        }
      ],
      "source": [
        "vehicles.head()"
      ]
    },
    {
      "cell_type": "markdown",
      "metadata": {
        "id": "ae3Vsu0KBnhq"
      },
      "source": [
        "- Το μόνο χαρακτηριστικό που έχει κατηγορικά δεδομένα είναι το 'class'. Οι κλάσεις αυτές όμως δεν έχουν κάποια διάταξη επομένως πρόκειται για μη-διατεταγμένα (nominal) δεδομένα.\n",
        "- Το αρχείο csv έχει header, το οποίο έχει ονόματα για κάθε στήλη και επίσης υπάρχει και αρίθμηση των γραμμών την οποία χρησιμοποιούμε θέτοντας index_col=0 όταν φορτώσαμε το αρχείο. Έτσι, η βιβλιοθήκη pandas δεν χρειάζεται να εισάγει μια νέα στήλη αρίθμησης."
      ]
    },
    {
      "cell_type": "markdown",
      "metadata": {
        "id": "porfYEHkfZmq"
      },
      "source": [
        "### Απουσιάζουσες τιμές και ετικέτες των κλάσεων\n",
        "\n",
        "- Έχουμε 4 ειδών ετικέτες στην κλάση, οι οποίες φαίνονται παρακάτω και όπως είπαμε βρίσκονται στη στήλη 'class'.\n",
        "- Δεν υπάρχουν απουσιάζουσες τιμές.\n",
        "- Το dataset είναι ισορροπημένο αφού κάθε ετικέτα εμφανίζεται σε περίπου ισότιμο ποσοστό. "
      ]
    },
    {
      "cell_type": "code",
      "execution_count": 9,
      "metadata": {
        "colab": {
          "base_uri": "https://localhost:8080/"
        },
        "id": "eDMy-BbyQply",
        "outputId": "7259dedd-8589-4af1-cf1f-2626e722b712"
      },
      "outputs": [
        {
          "output_type": "stream",
          "name": "stdout",
          "text": [
            "Οι ετικέτες των κλάσεων είναι: ['van' 'saab' 'bus' 'opel'] \n",
            "\n",
            "Αριθμός απουσιάζουσων τιμών: 0 \n",
            "\n",
            "Dataset Balance: \n",
            "\n",
            "#labeled 'bus': 218\n",
            "#labeled 'opel': 212\n",
            "#labeled 'saab': 217\n",
            "#labeled 'van': 199\n",
            "\n",
            "Bus percent: 25.768321513002363 %\n",
            "Opel percent: 25.059101654846337 %\n",
            "Saab percent: 25.65011820330969 %\n",
            "Van percent: 23.52245862884161 %\n"
          ]
        }
      ],
      "source": [
        "# Ισορροπια dataset\n",
        "y = vehicles.iloc[:,-1]\n",
        "\n",
        "# NaN τιμές \n",
        "count_nan = vehicles.isnull().sum().sum()\n",
        "\n",
        "count_bus = np.sum([y=='bus'])\n",
        "count_opel = np.sum([y=='opel'])\n",
        "count_saab = np.sum([y=='saab'])\n",
        "count_van = np.sum([y=='van'])\n",
        "total_count = count_bus + count_opel + count_saab + count_van\n",
        "\n",
        "print('Οι ετικέτες των κλάσεων είναι:', vehicles['class'].unique(),\"\\n\")\n",
        "\n",
        "print('Αριθμός απουσιάζουσων τιμών:',str(count_nan),\"\\n\")\n",
        "\n",
        "print(\"Dataset Balance:\",\"\\n\")\n",
        "print(\"#labeled 'bus': \" + str(count_bus))\n",
        "print(\"#labeled 'opel': \" + str(count_opel))\n",
        "print(\"#labeled 'saab': \" + str(count_saab))\n",
        "print(\"#labeled 'van': \" + str(count_van))\n",
        "\n",
        "print(\"\\nBus percent: \" + str( 100 * count_bus / total_count ) + \" %\")\n",
        "print(\"Opel percent: \" + str( 100 * count_opel / total_count ) + \" %\")\n",
        "print(\"Saab percent: \" + str( 100 * count_saab / total_count ) + \" %\")\n",
        "print(\"Van percent: \" + str( 100 * count_van / total_count ) + \" %\")\n"
      ]
    },
    {
      "cell_type": "markdown",
      "metadata": {
        "id": "_FSKN19DBnht"
      },
      "source": [
        "# Προετοιμασία"
      ]
    },
    {
      "cell_type": "code",
      "execution_count": 10,
      "metadata": {
        "colab": {
          "base_uri": "https://localhost:8080/"
        },
        "id": "NeT5tZZcBnhu",
        "outputId": "79c155e8-606c-4a06-8a4b-02a497b998e7"
      },
      "outputs": [
        {
          "output_type": "execute_result",
          "data": {
            "text/plain": [
              "0     van\n",
              "1     van\n",
              "2    saab\n",
              "3     van\n",
              "4     bus\n",
              "Name: class, dtype: object"
            ]
          },
          "metadata": {},
          "execution_count": 10
        }
      ],
      "source": [
        "vehicles['class'].head()"
      ]
    },
    {
      "cell_type": "code",
      "execution_count": 11,
      "metadata": {
        "colab": {
          "base_uri": "https://localhost:8080/"
        },
        "id": "zXg7k6WLUnj6",
        "outputId": "8e36c99a-20d0-4a72-a8ad-fa36046d242a"
      },
      "outputs": [
        {
          "output_type": "stream",
          "name": "stdout",
          "text": [
            "{'bus': 0, 'opel': 1, 'saab': 2, 'van': 3} \n",
            "\n",
            "Features shape: (846, 18) \n",
            "\n",
            "Labels shape: (846,)\n"
          ]
        }
      ],
      "source": [
        "#independent and dependent variables\n",
        "features = vehicles.iloc[:,0:18]\n",
        "labels = vehicles.iloc[:,18]\n",
        "X = features.to_numpy()\n",
        "y = labels.to_numpy()\n",
        "\n",
        "#encoding\n",
        "le = LabelEncoder()\n",
        "y = le.fit_transform(y)\n",
        "le_name_mapping = dict(zip(le.classes_, le.transform(le.classes_)))\n",
        "print(le_name_mapping,'\\n')\n",
        "\n",
        "print(\"Features shape:\",features.shape,\"\\n\")\n",
        "print(\"Labels shape:\",labels.shape)"
      ]
    },
    {
      "cell_type": "markdown",
      "metadata": {
        "id": "a79rDghBlaBu"
      },
      "source": [
        "## Διαχωρισμός dataset σε train & test sets\n",
        "\n",
        "- Κάνουμε split τα δεδομένα μας κατά 70% σε train και 30% σε test. "
      ]
    },
    {
      "cell_type": "code",
      "execution_count": 12,
      "metadata": {
        "id": "hhaBB5A4U53B"
      },
      "outputs": [],
      "source": [
        "X_train, X_test, y_train, y_test = train_test_split(X, y, test_size = 0.3, shuffle = True)"
      ]
    },
    {
      "cell_type": "code",
      "execution_count": 13,
      "metadata": {
        "colab": {
          "base_uri": "https://localhost:8080/"
        },
        "id": "HItMQ9bZjT_q",
        "outputId": "82302726-c56d-46b5-a43b-29eca071c41c"
      },
      "outputs": [
        {
          "output_type": "stream",
          "name": "stdout",
          "text": [
            "            Train set Balance\n",
            "#labeled bus: 156\n",
            "#labeled opel: 148\n",
            "#labeled saab: 148\n",
            "#labeled van: 140\n",
            "\n",
            "Bus percent: 26.35135135135135 %\n",
            "Opel percent: 25.0 %\n",
            "Saab percent: 25.0 %\n",
            "Van percent: 23.64864864864865 %\n",
            "Percent of train set: 69.97635933806147\n",
            "\n",
            "          Test set Balance\n",
            "#labeled bus: 62\n",
            "#labeled opel: 64\n",
            "#labeled saab: 69\n",
            "#labeled van: 59\n",
            "\n",
            "Bus percent: 24.409448818897637 %\n",
            "Opel percent: 25.19685039370079 %\n",
            "Saab percent: 27.165354330708663 %\n",
            "Van percent: 23.228346456692915 %\n",
            "Percent of test set: 30.023640661938533\n"
          ]
        }
      ],
      "source": [
        "# Training set Balance\n",
        "\n",
        "count_bus = np.sum([y_train == 0])\n",
        "count_opel = np.sum([y_train == 1])\n",
        "count_saab = np.sum([y_train == 2])\n",
        "count_van = np.sum([y_train == 3])\n",
        "total_count = count_bus + count_opel + count_saab + count_van\n",
        "\n",
        "print(\"            Train set Balance\")\n",
        "print(\"#labeled bus: \" + str(count_bus))\n",
        "print(\"#labeled opel: \" + str(count_opel))\n",
        "print(\"#labeled saab: \" + str(count_saab))\n",
        "print(\"#labeled van: \" + str(count_van))\n",
        "\n",
        "print(\"\\nBus percent: \" + str( 100 * count_bus / total_count ) + \" %\")\n",
        "print(\"Opel percent: \" + str( 100 * count_opel / total_count ) + \" %\")\n",
        "print(\"Saab percent: \" + str( 100 * count_saab / total_count ) + \" %\")\n",
        "print(\"Van percent: \" + str( 100 * count_van / total_count ) + \" %\")\n",
        "print(\"Percent of train set: \" + str(100*(total_count)/846))\n",
        "\n",
        "\n",
        "count_bus = np.sum([y_test== 0])\n",
        "count_opel = np.sum([y_test== 1])\n",
        "count_saab = np.sum([y_test== 2])\n",
        "count_van = np.sum([y_test== 3])\n",
        "total_count = count_bus + count_opel + count_saab + count_van\n",
        "\n",
        "print(\"\\n          Test set Balance\")\n",
        "print(\"#labeled bus: \" + str(count_bus))\n",
        "print(\"#labeled opel: \" + str(count_opel))\n",
        "print(\"#labeled saab: \" + str(count_saab))\n",
        "print(\"#labeled van: \" + str(count_van))\n",
        "\n",
        "print(\"\\nBus percent: \" + str( 100 * count_bus / total_count ) + \" %\")\n",
        "print(\"Opel percent: \" + str( 100 * count_opel / total_count ) + \" %\")\n",
        "print(\"Saab percent: \" + str( 100 * count_saab / total_count ) + \" %\")\n",
        "print(\"Van percent: \" + str( 100 * count_van / total_count ) + \" %\")\n",
        "print(\"Percent of test set: \" + str(100*(total_count)/846))"
      ]
    },
    {
      "cell_type": "markdown",
      "metadata": {
        "id": "e7RsOozfgWSA"
      },
      "source": [
        "## Dummy"
      ]
    },
    {
      "cell_type": "code",
      "execution_count": 14,
      "metadata": {
        "colab": {
          "base_uri": "https://localhost:8080/"
        },
        "id": "jTk-xpOfBnhy",
        "outputId": "fabd0363-2d6a-4406-cfdc-1388f00a0816"
      },
      "outputs": [
        {
          "output_type": "stream",
          "name": "stdout",
          "text": [
            "Accuracy: 0.2441\n",
            "F1_score: 0.0981\n"
          ]
        }
      ],
      "source": [
        "#Dummy\n",
        "dummy_clf = DummyClassifier()\n",
        "dummy_clf.fit(X_train, y_train)\n",
        "dummy_preds = dummy_clf.predict(X_test)\n",
        "print(f\"Accuracy: {dummy_clf.score(X_test, y_test):.4}\")\n",
        "print(f\"F1_score: {f1_score(dummy_preds,y_test,average='macro'):.4}\")"
      ]
    },
    {
      "cell_type": "markdown",
      "metadata": {
        "id": "tQXlEk_RgWSB"
      },
      "source": [
        "**Τα πολύ μικρά σκορ δικαιολογούνται από το γεγονός ότι όλες οι κλάσεις στο y_train και το y_test έχουν παρόμοια ποσοστά επί του συνόλου.**"
      ]
    },
    {
      "cell_type": "markdown",
      "metadata": {
        "id": "eZ66IVxDgWSB"
      },
      "source": [
        "## Gaussian Naive Bayes"
      ]
    },
    {
      "cell_type": "code",
      "execution_count": 15,
      "metadata": {
        "colab": {
          "base_uri": "https://localhost:8080/"
        },
        "id": "uEnRAt70VUZ5",
        "outputId": "8798adde-db3a-4cc6-bd76-1d0d14c722c3"
      },
      "outputs": [
        {
          "output_type": "stream",
          "name": "stdout",
          "text": [
            "Accuracy: 0.4134\n",
            "F1_score: 0.3784\n"
          ]
        }
      ],
      "source": [
        "#Gaussian Naive Bayes\n",
        "gnb_clf = GaussianNB()\n",
        "gnb_clf.fit(X_train, y_train)\n",
        "gnb_preds = gnb_clf.predict(X_test)\n",
        "print(f\"Accuracy: {gnb_clf.score(X_test, y_test):.4}\")\n",
        "print(f\"F1_score: {f1_score(gnb_preds,y_test,average='macro'):.4}\")"
      ]
    },
    {
      "cell_type": "markdown",
      "metadata": {
        "id": "jrCiZRg-gWSC"
      },
      "source": [
        "## KNeighborsClassifier"
      ]
    },
    {
      "cell_type": "code",
      "execution_count": 16,
      "metadata": {
        "colab": {
          "base_uri": "https://localhost:8080/",
          "height": 322
        },
        "id": "WeidOXQ4Vmks",
        "outputId": "836eecea-0e86-4f7f-bf69-efdc3ad767d9"
      },
      "outputs": [
        {
          "output_type": "display_data",
          "data": {
            "text/plain": [
              "<Figure size 432x288 with 1 Axes>"
            ],
            "image/png": "[encoded data removed]"
          },
          "metadata": {
            "needs_background": "light"
          }
        },
        {
          "output_type": "stream",
          "name": "stdout",
          "text": [
            "[0.651358543417367, 0.6584733893557424, 0.6490616246498601, 0.644327731092437, 0.6443977591036415, 0.6219327731092438, 0.6171988795518207, 0.624187675070028, 0.6088515406162466, 0.6041596638655461, 0.6053221288515406, 0.6159523809523808, 0.6124649859943977, 0.5970448179271709, 0.5899299719887955]\n"
          ]
        }
      ],
      "source": [
        "#KNeighborsClassifier\n",
        "from sklearn.metrics import roc_curve, auc\n",
        "#Even number of classes so only keep odd \n",
        "neighbors = [i for i in range(1,30,2)]\n",
        "# empty list that will hold cv scores\n",
        "acc_scores = []\n",
        "f1_scores = []\n",
        "for k in neighbors:\n",
        "    knn_clf = KNeighborsClassifier(n_neighbors=k)\n",
        "    knn_acc = cross_val_score(knn_clf, X, y, cv=10)\n",
        "    knn_f1 = cross_val_score(knn_clf, X, y, cv=10, scoring='f1_macro')\n",
        "    acc_scores.append(knn_acc.mean())\n",
        "    f1_scores.append(knn_f1.mean())\n",
        "\n",
        "line1 = plt.plot(neighbors, acc_scores, 'b')\n",
        "line2 = plt.plot(neighbors, f1_scores, 'r')\n",
        "plt.ylabel('Accuracy')\n",
        "plt.xlabel('n_neighbors')\n",
        "plt.show()\n",
        "print(acc_scores)"
      ]
    },
    {
      "cell_type": "code",
      "execution_count": 17,
      "metadata": {
        "colab": {
          "base_uri": "https://localhost:8080/"
        },
        "id": "P_l2FaEOBnh2",
        "outputId": "122351e4-c79d-42be-8dfb-a87710301f6d"
      },
      "outputs": [
        {
          "output_type": "stream",
          "name": "stdout",
          "text": [
            "The optimal number of neighbors is 3\n"
          ]
        }
      ],
      "source": [
        "# determining best k\n",
        "max_acc = -1\n",
        "optimal_k = -1\n",
        "\n",
        "for i in enumerate(acc_scores):\n",
        "    if i[1] > max_acc:\n",
        "        max_acc = i[1]\n",
        "        optimal_k = 2*i[0]+1\n",
        "print(\"The optimal number of neighbors is %d\" % optimal_k)"
      ]
    },
    {
      "cell_type": "code",
      "execution_count": 18,
      "metadata": {
        "colab": {
          "base_uri": "https://localhost:8080/"
        },
        "id": "hDgOAERkBnh2",
        "outputId": "0be1072c-2d7f-42c6-c72f-d50672f44ba4"
      },
      "outputs": [
        {
          "output_type": "stream",
          "name": "stdout",
          "text": [
            "Accuracy: 0.6339\n",
            "F1_score: 0.6272\n"
          ]
        }
      ],
      "source": [
        "# για το optimal k παίρνουμε και τα αποτέλεσματα στο test set\n",
        "knn_clf = KNeighborsClassifier(n_neighbors = optimal_k)\n",
        "knn_clf.fit(X_train, y_train)\n",
        "knn_preds = knn_clf.predict(X_test)\n",
        "\n",
        "print(f\"Accuracy: {knn_clf.score(X_test, y_test):.4}\")\n",
        "print(f\"F1_score: {f1_score(knn_preds,y_test,average='macro'):.4}\")"
      ]
    },
    {
      "cell_type": "code",
      "execution_count": 19,
      "metadata": {
        "colab": {
          "base_uri": "https://localhost:8080/"
        },
        "id": "YEfT8EPKBnh4",
        "outputId": "3072872d-a025-49a4-cfcc-258023800bc7"
      },
      "outputs": [
        {
          "output_type": "stream",
          "name": "stdout",
          "text": [
            "Accurary: 0.752\n",
            "F1-score: 0.7515\n"
          ]
        },
        {
          "output_type": "stream",
          "name": "stderr",
          "text": [
            "/usr/local/lib/python3.8/dist-packages/sklearn/linear_model/_logistic.py:814: ConvergenceWarning: lbfgs failed to converge (status=1):\n",
            "STOP: TOTAL NO. of ITERATIONS REACHED LIMIT.\n",
            "\n",
            "Increase the number of iterations (max_iter) or scale the data as shown in:\n",
            "    https://scikit-learn.org/stable/modules/preprocessing.html\n",
            "Please also refer to the documentation for alternative solver options:\n",
            "    https://scikit-learn.org/stable/modules/linear_model.html#logistic-regression\n",
            "  n_iter_i = _check_optimize_result(\n"
          ]
        }
      ],
      "source": [
        "#Logistic Regression\n",
        "log_reg = LogisticRegression(max_iter=400)\n",
        "log_reg.fit(X_train, y_train)\n",
        "log_reg_preds = log_reg.predict(X_test)\n",
        "\n",
        "log_reg_acc = log_reg.score(X_test, y_test)\n",
        "log_reg_f1 = f1_score(log_reg_preds, y_test, average='macro')\n",
        "print(f\"Accurary: {log_reg_acc:.4}\")\n",
        "print(f\"F1-score: {log_reg_f1:.4}\")"
      ]
    },
    {
      "cell_type": "markdown",
      "metadata": {
        "id": "d5i7IQlIBnh4"
      },
      "source": [
        "## Σύγκριση Αποτελεσμάτων"
      ]
    },
    {
      "cell_type": "markdown",
      "metadata": {
        "id": "nWnP3ZejBnh4"
      },
      "source": [
        "Βλέπουμε λοιπόν εποπτικά τα αποτελέσματα και των 4 ταξινομητών οι οποίοι βρίσκονται και σε αύξουσα διάταξη accuracy και f1-score:\n",
        "\n",
        "|          | Dummy  | Gaussian Naive Bayes | K-Nearest Neighbors | Logistic Regression |\n",
        "|----------|--------|----------------------|---------------------|---------------------|\n",
        "| Accuracy | 0.2441 | 0.4134               | 0.6339| 0.752             |\n",
        "| F1-macro | 0.0981 | 0.3784               | 0.6272              | 0.7515              | "
      ]
    },
    {
      "cell_type": "code",
      "execution_count": 21,
      "metadata": {
        "colab": {
          "base_uri": "https://localhost:8080/",
          "height": 297
        },
        "id": "VnazJnEcBnh5",
        "outputId": "e39a8ad0-ce05-4310-a4f4-33f0cb6a95b6"
      },
      "outputs": [
        {
          "output_type": "display_data",
          "data": {
            "text/plain": [
              "<Figure size 432x288 with 1 Axes>"
            ],
            "image/png": "[encoded data removed]"
          },
          "metadata": {
            "needs_background": "light"
          }
        }
      ],
      "source": [
        "#https://matplotlib.org/stable/gallery/lines_bars_and_markers/barchart.html\n",
        "import matplotlib \n",
        "labels = ['Dummy','GNB','KNN','LogReg']\n",
        "acc = [0.2441,0.4134,0.6339,0.752]\n",
        "f1 = [0.0981,0.3784,0.6272,0.7515]\n",
        "\n",
        "x = np.arange(len(labels))  # the label locations\n",
        "width = 0.35  # the width of the bars\n",
        "gap = 0.4 \n",
        "fig, ax = plt.subplots()\n",
        "rects1 = ax.bar(x - gap/2, acc, width, label='Accuracy')\n",
        "rects2 = ax.bar(x + gap/2, f1, width, label='F1-macro')\n",
        "\n",
        "# Add some text for labels, title and custom x-axis tick labels, etc.\n",
        "ax.set_ylabel('Scores')\n",
        "ax.set_title('Metrics by classifier')\n",
        "plt.xticks(x, labels)\n",
        "ax.legend(loc='upper left')\n",
        "ax.bar_label(rects1, padding=4)\n",
        "ax.bar_label(rects2, padding=4)\n",
        "ax.set_ylim([0.0, 1])\n",
        "fig.tight_layout()\n",
        "\n",
        "plt.show()"
      ]
    },
    {
      "cell_type": "markdown",
      "metadata": {
        "id": "RdTgCcPJMvHc"
      },
      "source": [
        "# Βελτιστοποίηση"
      ]
    },
    {
      "cell_type": "markdown",
      "metadata": {
        "id": "nkGWgep-QWl7"
      },
      "source": [
        "Για τη βελτίωση των αποτελεσμάτων θα προχωρήσουμε σε προ-επεξεργασία των δεδομένων μας και σε μια \"έξυπνη\" εύρεση των καλύτερων παραμέτρων για τα μοντέλα μας.\n",
        "Συγκεκριμένα θα ορίσουμε ένα Pipeline για την επεξεργασία των δεδομένων και GridSearchCV για να βελτιστοποιήσουμε τις υπερπαραμέτρους μας. Η GridSearchCV κάνει μαζί cross-validation και grid search.<br>\n",
        "Η επιλογή των συγκεκριμένων μετραβλητών για το GridSearch έγινε μετά δοκιμαστικούς ελέγχους."
      ]
    },
    {
      "cell_type": "markdown",
      "metadata": {
        "id": "B8oV0PGdgWSF"
      },
      "source": [
        "## Dummy"
      ]
    },
    {
      "cell_type": "code",
      "execution_count": 22,
      "metadata": {
        "colab": {
          "base_uri": "https://localhost:8080/"
        },
        "id": "K5wEvB-tgWSF",
        "outputId": "2ecaa25f-c61a-40d9-8291-f9f93d450245"
      },
      "outputs": [
        {
          "output_type": "stream",
          "name": "stdout",
          "text": [
            "Συνολικός χρόνος fit και predict: 2.7438042163848877 seconds \n",
            "\n",
            "Accuracy: 0.2559\n",
            "F1_score: 0.2412\n",
            "{'dummy__strategy': 'uniform', 'pca__n_components': 1}\n"
          ]
        }
      ],
      "source": [
        "import warnings\n",
        "warnings.filterwarnings('ignore')\n",
        "\n",
        "scaler = StandardScaler()\n",
        "pca = PCA()\n",
        "n_components = [1,5,7,9,12,15,18]\n",
        "strategy = [\"most_frequent\", \"prior\", \"stratified\", \"uniform\", \"constant\"]\n",
        "dummy = DummyClassifier()\n",
        "\n",
        "pipe = Pipeline(steps=[('scaler', scaler),('pca', pca), ('dummy', dummy)])\n",
        "estimator = GridSearchCV(pipe, dict(pca__n_components=n_components, dummy__strategy=strategy), cv=10, n_jobs=-1)\n",
        "\n",
        "import time\n",
        "start_time = time.time()\n",
        "estimator.fit(X_train, y_train)\n",
        "preds = estimator.predict(X_test)\n",
        "print(\"Συνολικός χρόνος fit και predict: %s seconds\" % (time.time() - start_time),\"\\n\")\n",
        "\n",
        "print(f\"Accuracy: {estimator.score(X_test, y_test):.4}\")\n",
        "print(f\"F1_score: {f1_score(preds,y_test,average='macro'):.4}\")\n",
        "\n",
        "print(estimator.best_params_)"
      ]
    },
    {
      "cell_type": "markdown",
      "metadata": {
        "id": "zUahyk3KgWSG"
      },
      "source": [
        "## Gaussian Naive Bayes"
      ]
    },
    {
      "cell_type": "code",
      "execution_count": 23,
      "metadata": {
        "colab": {
          "base_uri": "https://localhost:8080/"
        },
        "id": "jc9gBZcugWSG",
        "outputId": "b08562f5-cf38-4531-cc48-03ece2c934ac"
      },
      "outputs": [
        {
          "output_type": "stream",
          "name": "stdout",
          "text": [
            "Συνολικός χρόνος fit και predict: 29.323825359344482 seconds \n",
            "\n",
            "Accuracy: 0.7165\n",
            "F1_score: 0.7285\n",
            "{'gnb__var_smoothing': 5.336699231206313e-06, 'pca__n_components': 18}\n"
          ]
        }
      ],
      "source": [
        "gnb = GaussianNB()\n",
        "params_NB = np.logspace(0,-9, num=100)\n",
        "\n",
        "pipe = Pipeline(steps=[('scaler', scaler),('pca', pca), ('gnb', gnb)])\n",
        "estimator = GridSearchCV(pipe, dict(pca__n_components=n_components, gnb__var_smoothing=params_NB), cv=10, n_jobs=-1)\n",
        "\n",
        "import time\n",
        "start_time = time.time()\n",
        "estimator.fit(X_train, y_train)\n",
        "preds = estimator.predict(X_test)\n",
        "print(\"Συνολικός χρόνος fit και predict: %s seconds\" % (time.time() - start_time),\"\\n\")\n",
        "\n",
        "print(f\"Accuracy: {estimator.score(X_test, y_test):.4}\")\n",
        "print(f\"F1_score: {f1_score(preds,y_test,average='macro'):.4}\")\n",
        "\n",
        "print(estimator.best_params_)"
      ]
    },
    {
      "cell_type": "markdown",
      "metadata": {
        "id": "KQQD6EdNgWSG"
      },
      "source": [
        "## K-Nearest Neighbors"
      ]
    },
    {
      "cell_type": "code",
      "execution_count": 24,
      "metadata": {
        "id": "tv8vlD6NgWSH",
        "outputId": "2f37fa09-fdf2-440e-9c21-12bda1db8e90",
        "colab": {
          "base_uri": "https://localhost:8080/"
        }
      },
      "outputs": [
        {
          "output_type": "stream",
          "name": "stdout",
          "text": [
            "Συνολικός χρόνος fit και predict: 9.428291320800781 seconds \n",
            "\n",
            "Accuracy: 0.6969\n",
            "F1_score: 0.6988\n",
            "{'kNN__algorithm': 'auto', 'kNN__n_neighbors': 1, 'pca__n_components': 15}\n"
          ]
        }
      ],
      "source": [
        "clf = KNeighborsClassifier()\n",
        "k = [1,3,5,7,9] # η υπερπαράμετρος του ταξινομητή\n",
        "algorithm = [\"auto\",  \"ball_tree\", \"kd_tree\", \"brute\"]\n",
        "\n",
        "pipe = Pipeline(steps=[('scaler', scaler),('pca', pca), ('kNN', clf)])\n",
        "estimator = GridSearchCV(pipe, dict(pca__n_components=n_components, kNN__n_neighbors=k, kNN__algorithm=algorithm), cv=10, scoring=\"accuracy\",n_jobs=-1)\n",
        "\n",
        "import time\n",
        "start_time = time.time()\n",
        "estimator.fit(X_train, y_train)\n",
        "preds = estimator.predict(X_test)\n",
        "print(\"Συνολικός χρόνος fit και predict: %s seconds\" % (time.time() - start_time),\"\\n\")\n",
        "\n",
        "print(f\"Accuracy: {estimator.score(X_test, y_test):.4}\")\n",
        "print(f\"F1_score: {f1_score(preds,y_test,average='macro'):.4}\")\n",
        "\n",
        "print(estimator.best_params_)"
      ]
    },
    {
      "cell_type": "markdown",
      "metadata": {
        "id": "I9fzbhkQSzGb",
        "outputId": "ff1a7bc4-6124-468b-e24b-51ac1d9b8881"
      },
      "source": [
        "## Logistic Regression"
      ]
    },
    {
      "cell_type": "code",
      "execution_count": 25,
      "metadata": {
        "id": "Uem1yYHgRUzK",
        "outputId": "56faf12e-3b57-4547-8a9f-667666758269",
        "colab": {
          "base_uri": "https://localhost:8080/"
        }
      },
      "outputs": [
        {
          "output_type": "stream",
          "name": "stdout",
          "text": [
            "Συνολικός χρόνος fit και predict: 131.30688571929932 seconds \n",
            "\n",
            "Accuracy: 0.7638\n",
            "F1_score: 0.7713\n",
            "{'lr__C': 494.1713361323828, 'lr__penalty': 'l2', 'pca__n_components': 18}\n"
          ]
        }
      ],
      "source": [
        "clf = LogisticRegression()\n",
        "C = np.logspace(-4, 4, 50)\n",
        "penalty = ['l1', 'l2']\n",
        "    \n",
        "pipe = Pipeline(steps=[('scaler', scaler),('pca', pca), ('lr', clf)])\n",
        "estimator = GridSearchCV(pipe, dict(pca__n_components=n_components, lr__C=C, lr__penalty=penalty), cv=10, n_jobs=-1)\n",
        "\n",
        "import time\n",
        "start_time = time.time()\n",
        "estimator.fit(X_train, y_train)\n",
        "preds = estimator.predict(X_test)\n",
        "print(\"Συνολικός χρόνος fit και predict: %s seconds\" % (time.time() - start_time),\"\\n\")\n",
        "\n",
        "print(f\"Accuracy: {estimator.score(X_test, y_test):.4}\")\n",
        "print(f\"F1_score: {f1_score(preds,y_test,average='macro'):.4}\")\n",
        "\n",
        "print(estimator.best_params_)"
      ]
    },
    {
      "cell_type": "markdown",
      "metadata": {
        "id": "QTCGT9GSgWSI"
      },
      "source": [
        "## Σύνοψη"
      ]
    },
    {
      "cell_type": "markdown",
      "source": [
        "Τελικά, όπως προκύπτει και απο το παρακάτω διάγραμμα, παρατηρούμε πως μετά από τις απαραίτητες βελτιστοποιήσεις που κάνουμε το accuracy αλλά και το F1-macro αυξάνονται, σε άλλα αρκετά (GNB) και σε άλλα λιγότερα(LogRef, kNN) ."
      ],
      "metadata": {
        "id": "hKyFW1xfiWH0"
      }
    },
    {
      "cell_type": "markdown",
      "metadata": {
        "id": "VFHz-htSgWSI"
      },
      "source": [
        "|          | Dummy  | Gaussian Naive Bayes | K-Nearest Neighbors | Logistic Regression |\n",
        "|----------|--------|----------------------|---------------------|---------------------|\n",
        "| Accuracy | 0.2559 | 0.7165               | 0.6969              | 0.8071              |\n",
        "| F1-macro | 0.2412 | 0.7285               | 0.6988              | 0.8039              | "
      ]
    },
    {
      "cell_type": "code",
      "execution_count": 26,
      "metadata": {
        "id": "9j_ezpP3gWSI",
        "outputId": "9d66eb56-8bc2-4ce5-a0e2-71af863816e0",
        "colab": {
          "base_uri": "https://localhost:8080/",
          "height": 585
        }
      },
      "outputs": [
        {
          "output_type": "display_data",
          "data": {
            "text/plain": [
              "<Figure size 1116x576 with 1 Axes>"
            ],
            "image/png": "[encoded data removed]"
          },
          "metadata": {
            "needs_background": "light"
          }
        }
      ],
      "source": [
        "labels = ['Dummy','GNB','KNN','LogReg']\n",
        "font=20\n",
        "acc = [0.2441,0.4134,0.6339,0.752]\n",
        "f1 = [0.0981,0.3784,0.6272,0.7515]\n",
        "x = np.arange(len(labels))  # the label locations\n",
        "width = 0.05  # the width of the bars\n",
        "gap = 0.1\n",
        "acc2 = [0.2559,0.7165,0.6969,0.7638]\n",
        "f12 = [0.2412,0.7285,0.6988,0.7713]\n",
        "fig, ax = plt.subplots()\n",
        "fig.set_size_inches(15.5, 8)\n",
        "rects1 = ax.bar(x - 2*gap, acc, width, label='Accuracy')\n",
        "rects12 = ax.bar(x - gap, acc2, width, label='Opt_Accuracy')\n",
        "rects2 = ax.bar(x + gap, f1, width, label='F1-macro')\n",
        "rects22 = ax.bar(x + 2*gap, f12, width, label='Opt_F1-macro')\n",
        "# Add some text for labels, title and custom x-axis tick labels, etc.\n",
        "ax.set_ylabel('Scores', fontsize=15)\n",
        "ax.set_title('Metrics by classifier', fontsize=17)\n",
        "plt.xticks(x, labels, fontsize=15)\n",
        "ax.legend(loc='upper left', fontsize=15)\n",
        "ax.set_ylim([0.0, 1])\n",
        "\n",
        "ax.bar_label(rects1, padding=3, fontsize=12)\n",
        "ax.bar_label(rects2, padding=3, fontsize=12)\n",
        "ax.bar_label(rects12, padding=3, fontsize=12)\n",
        "ax.bar_label(rects22, padding=3, fontsize=12)\n",
        "fig.tight_layout()\n",
        "plt.show()"
      ]
    }
  ],
  "metadata": {
    "colab": {
      "provenance": [],
      "toc_visible": true
    },
    "kernelspec": {
      "display_name": "Python 3 (ipykernel)",
      "language": "python",
      "name": "python3"
    },
    "language_info": {
      "codemirror_mode": {
        "name": "ipython",
        "version": 3
      },
      "file_extension": ".py",
      "mimetype": "text/x-python",
      "name": "python",
      "nbconvert_exporter": "python",
      "pygments_lexer": "ipython3",
      "version": "3.9.7"
    }
  },
  "nbformat": 4,
  "nbformat_minor": 0
}